{
  "nbformat": 4,
  "nbformat_minor": 0,
  "metadata": {
    "colab": {
      "name": "text_summarization_kmeans",
      "provenance": [],
      "authorship_tag": "ABX9TyNVf2Tc0MSEVByX7IPQsHTs",
      "include_colab_link": true
    },
    "kernelspec": {
      "name": "python3",
      "display_name": "Python 3"
    }
  },
  "cells": [
    {
      "cell_type": "markdown",
      "metadata": {
        "id": "view-in-github",
        "colab_type": "text"
      },
      "source": [
        "<a href=\"https://colab.research.google.com/github/prithvijaunjale/NLP/blob/master/text_summarization/text_summarization_kmeans.ipynb\" target=\"_parent\"><img src=\"https://colab.research.google.com/assets/colab-badge.svg\" alt=\"Open In Colab\"/></a>"
      ]
    },
    {
      "cell_type": "code",
      "metadata": {
        "id": "7JqRAS8Qdn10",
        "colab_type": "code",
        "colab": {
          "base_uri": "https://localhost:8080/",
          "height": 124
        },
        "outputId": "a1ddb21f-0334-4097-d4b9-982ec66fd571"
      },
      "source": [
        "from google.colab import drive\n",
        "drive.mount('drive')"
      ],
      "execution_count": null,
      "outputs": [
        {
          "output_type": "stream",
          "text": [
            "Go to this URL in a browser: https://accounts.google.com/o/oauth2/auth?client_id=947318989803-6bn6qk8qdgf4n4g3pfee6491hc0brc4i.apps.googleusercontent.com&redirect_uri=urn%3aietf%3awg%3aoauth%3a2.0%3aoob&response_type=code&scope=email%20https%3a%2f%2fwww.googleapis.com%2fauth%2fdocs.test%20https%3a%2f%2fwww.googleapis.com%2fauth%2fdrive%20https%3a%2f%2fwww.googleapis.com%2fauth%2fdrive.photos.readonly%20https%3a%2f%2fwww.googleapis.com%2fauth%2fpeopleapi.readonly\n",
            "\n",
            "Enter your authorization code:\n",
            "··········\n",
            "Mounted at drive\n"
          ],
          "name": "stdout"
        }
      ]
    },
    {
      "cell_type": "code",
      "metadata": {
        "id": "Dlk4uHroSC1z",
        "colab_type": "code",
        "colab": {
          "base_uri": "https://localhost:8080/",
          "height": 52
        },
        "outputId": "5f00e7f3-2a45-4dc0-e3d4-025fac0e6f90"
      },
      "source": [
        "from sentence_transformers import SentenceTransformer\n",
        "import numpy as np\n",
        "import pandas as pd\n",
        "from matplotlib import pyplot as plt\n",
        "import re\n",
        "import nltk\n",
        "nltk.download('punkt')\n",
        "from nltk.tokenize import sent_tokenize\n",
        "from keras.preprocessing.text import Tokenizer\n",
        "from keras.preprocessing.sequence import pad_sequences\n",
        "import gensim.models.keyedvectors as word2vec\n",
        "import gc\n",
        "import string"
      ],
      "execution_count": null,
      "outputs": [
        {
          "output_type": "stream",
          "text": [
            "[nltk_data] Downloading package punkt to /root/nltk_data...\n",
            "[nltk_data]   Package punkt is already up-to-date!\n"
          ],
          "name": "stdout"
        }
      ]
    },
    {
      "cell_type": "code",
      "metadata": {
        "id": "tqR2ui6USKnF",
        "colab_type": "code",
        "colab": {
          "base_uri": "https://localhost:8080/",
          "height": 336
        },
        "outputId": "68884dd3-349f-4a48-8ffb-36ee8f2c3334"
      },
      "source": [
        "df = pd.read_csv('drive/My Drive/deep_learning/nlp/covid19/cord19_cleaned.csv', nrows=7000)\n",
        "df.head()"
      ],
      "execution_count": null,
      "outputs": [
        {
          "output_type": "execute_result",
          "data": {
            "text/html": [
              "<div>\n",
              "<style scoped>\n",
              "    .dataframe tbody tr th:only-of-type {\n",
              "        vertical-align: middle;\n",
              "    }\n",
              "\n",
              "    .dataframe tbody tr th {\n",
              "        vertical-align: top;\n",
              "    }\n",
              "\n",
              "    .dataframe thead th {\n",
              "        text-align: right;\n",
              "    }\n",
              "</style>\n",
              "<table border=\"1\" class=\"dataframe\">\n",
              "  <thead>\n",
              "    <tr style=\"text-align: right;\">\n",
              "      <th></th>\n",
              "      <th>Unnamed: 0</th>\n",
              "      <th>paper_id</th>\n",
              "      <th>abstract</th>\n",
              "      <th>body_text</th>\n",
              "    </tr>\n",
              "  </thead>\n",
              "  <tbody>\n",
              "    <tr>\n",
              "      <th>0</th>\n",
              "      <td>1</td>\n",
              "      <td>6979d40067c7917b6b92917ff8c3db8a440f5f4c</td>\n",
              "      <td>Over the years, a vast array of information co...</td>\n",
              "      <td>Over the last decades, many host-pathogen inte...</td>\n",
              "    </tr>\n",
              "    <tr>\n",
              "      <th>1</th>\n",
              "      <td>2</td>\n",
              "      <td>ed52c50fb3ff01140790f21c6e9716a8cd3c9fa8</td>\n",
              "      <td>KSHV achieves this by tethering its epigenome ...</td>\n",
              "      <td>Kaposi's sarcoma associated herpesvirus (KSHV)...</td>\n",
              "    </tr>\n",
              "    <tr>\n",
              "      <th>2</th>\n",
              "      <td>3</td>\n",
              "      <td>04421db3d34e7fd7c7486d66d21b34978a1fb362</td>\n",
              "      <td>Given the pleiotropic effects of type I IFNs (...</td>\n",
              "      <td>Type I IFNs provide a potent line of antiviral...</td>\n",
              "    </tr>\n",
              "    <tr>\n",
              "      <th>3</th>\n",
              "      <td>5</td>\n",
              "      <td>3c0c493a037dacafd2eda2e37518e0f0dff7955f</td>\n",
              "      <td>We describe futures of ICU admission, demograp...</td>\n",
              "      <td>In 2009, cases of influenza like illness were ...</td>\n",
              "    </tr>\n",
              "    <tr>\n",
              "      <th>4</th>\n",
              "      <td>6</td>\n",
              "      <td>2559cb0b4a2175212495ab7d44d9305db4a06c05</td>\n",
              "      <td>All positive-stranded RNA viruses with genomes...</td>\n",
              "      <td>Helicases and nucleic acid translocases are AT...</td>\n",
              "    </tr>\n",
              "  </tbody>\n",
              "</table>\n",
              "</div>"
            ],
            "text/plain": [
              "   Unnamed: 0  ...                                          body_text\n",
              "0           1  ...  Over the last decades, many host-pathogen inte...\n",
              "1           2  ...  Kaposi's sarcoma associated herpesvirus (KSHV)...\n",
              "2           3  ...  Type I IFNs provide a potent line of antiviral...\n",
              "3           5  ...  In 2009, cases of influenza like illness were ...\n",
              "4           6  ...  Helicases and nucleic acid translocases are AT...\n",
              "\n",
              "[5 rows x 4 columns]"
            ]
          },
          "metadata": {
            "tags": []
          },
          "execution_count": 30
        }
      ]
    },
    {
      "cell_type": "code",
      "metadata": {
        "id": "xeV-uUomTqcc",
        "colab_type": "code",
        "colab": {}
      },
      "source": [
        "def split_sentences(emails):\n",
        "    \"\"\"\n",
        "    Splits the reviews into individual sentences\n",
        "    \"\"\"\n",
        "    n_emails = len(emails)\n",
        "    for i in range(n_emails):\n",
        "        email = emails[i]\n",
        "        #print(email)\n",
        "        sentences = sent_tokenize(email)\n",
        "        #print(sentences)\n",
        "        for j in reversed(range(len(sentences))):\n",
        "            sent = sentences[j]\n",
        "            sentences[j] = sent.strip()\n",
        "            if sent == '':\n",
        "                sentences.pop(j)\n",
        "        emails[i] = sentences"
      ],
      "execution_count": null,
      "outputs": []
    },
    {
      "cell_type": "code",
      "metadata": {
        "id": "U7jp9amaeqHF",
        "colab_type": "code",
        "colab": {
          "base_uri": "https://localhost:8080/",
          "height": 435
        },
        "outputId": "9573b66f-2fd7-43e8-ff0a-4b99848c3a76"
      },
      "source": [
        "rev_list = list(df['body_text'])\n",
        "split_sentences(rev_list)\n",
        "#Adding split reviews in the data frame\n",
        "df['sent_tokens'] = rev_list\n",
        "#Calculating lenght of sentences in each review\n",
        "df['length_of_rv'] = df['sent_tokens'].map(lambda x: len(x))\n",
        "df.head(3)"
      ],
      "execution_count": null,
      "outputs": [
        {
          "output_type": "execute_result",
          "data": {
            "text/html": [
              "<div>\n",
              "<style scoped>\n",
              "    .dataframe tbody tr th:only-of-type {\n",
              "        vertical-align: middle;\n",
              "    }\n",
              "\n",
              "    .dataframe tbody tr th {\n",
              "        vertical-align: top;\n",
              "    }\n",
              "\n",
              "    .dataframe thead th {\n",
              "        text-align: right;\n",
              "    }\n",
              "</style>\n",
              "<table border=\"1\" class=\"dataframe\">\n",
              "  <thead>\n",
              "    <tr style=\"text-align: right;\">\n",
              "      <th></th>\n",
              "      <th>Unnamed: 0</th>\n",
              "      <th>paper_id</th>\n",
              "      <th>abstract</th>\n",
              "      <th>body_text</th>\n",
              "      <th>sent_tokens</th>\n",
              "      <th>length_of_rv</th>\n",
              "    </tr>\n",
              "  </thead>\n",
              "  <tbody>\n",
              "    <tr>\n",
              "      <th>0</th>\n",
              "      <td>1</td>\n",
              "      <td>6979d40067c7917b6b92917ff8c3db8a440f5f4c</td>\n",
              "      <td>Over the years, a vast array of information co...</td>\n",
              "      <td>Over the last decades, many host-pathogen inte...</td>\n",
              "      <td>[Over the last decades, many host-pathogen int...</td>\n",
              "      <td>134</td>\n",
              "    </tr>\n",
              "    <tr>\n",
              "      <th>1</th>\n",
              "      <td>2</td>\n",
              "      <td>ed52c50fb3ff01140790f21c6e9716a8cd3c9fa8</td>\n",
              "      <td>KSHV achieves this by tethering its epigenome ...</td>\n",
              "      <td>Kaposi's sarcoma associated herpesvirus (KSHV)...</td>\n",
              "      <td>[Kaposi's sarcoma associated herpesvirus (KSHV...</td>\n",
              "      <td>307</td>\n",
              "    </tr>\n",
              "    <tr>\n",
              "      <th>2</th>\n",
              "      <td>3</td>\n",
              "      <td>04421db3d34e7fd7c7486d66d21b34978a1fb362</td>\n",
              "      <td>Given the pleiotropic effects of type I IFNs (...</td>\n",
              "      <td>Type I IFNs provide a potent line of antiviral...</td>\n",
              "      <td>[Type I IFNs provide a potent line of antivira...</td>\n",
              "      <td>155</td>\n",
              "    </tr>\n",
              "  </tbody>\n",
              "</table>\n",
              "</div>"
            ],
            "text/plain": [
              "   Unnamed: 0  ... length_of_rv\n",
              "0           1  ...          134\n",
              "1           2  ...          307\n",
              "2           3  ...          155\n",
              "\n",
              "[3 rows x 6 columns]"
            ]
          },
          "metadata": {
            "tags": []
          },
          "execution_count": 31
        }
      ]
    },
    {
      "cell_type": "code",
      "metadata": {
        "id": "BuR-UpNNgIx2",
        "colab_type": "code",
        "colab": {
          "base_uri": "https://localhost:8080/",
          "height": 35
        },
        "outputId": "30914c97-5fe7-4a8c-df5c-822df2d5e764"
      },
      "source": [
        "df.shape"
      ],
      "execution_count": null,
      "outputs": [
        {
          "output_type": "execute_result",
          "data": {
            "text/plain": [
              "(7000, 6)"
            ]
          },
          "metadata": {
            "tags": []
          },
          "execution_count": 33
        }
      ]
    },
    {
      "cell_type": "code",
      "metadata": {
        "id": "85rl_VpmgS7B",
        "colab_type": "code",
        "colab": {}
      },
      "source": [
        "#Making vocabulary with reviews with max vocabs=5000. \n",
        "list_sentences_train = df['body_text']\n",
        "max_features = 50000\n",
        "tokenizer = Tokenizer(num_words=max_features)\n",
        "tokenizer.fit_on_texts(list(list_sentences_train))\n",
        "list_tokenized_train = tokenizer.texts_to_sequences(list_sentences_train)\n",
        "maxlen = 6000\n",
        "X_t = pad_sequences(list_tokenized_train, maxlen=maxlen)"
      ],
      "execution_count": null,
      "outputs": []
    },
    {
      "cell_type": "code",
      "metadata": {
        "id": "h7JqNHb5hOiv",
        "colab_type": "code",
        "colab": {}
      },
      "source": [
        "# Pre trained Embeddings\n",
        "embedder = SentenceTransformer('bert-base-nli-mean-tokens')"
      ],
      "execution_count": null,
      "outputs": []
    },
    {
      "cell_type": "code",
      "metadata": {
        "id": "se9Yqja3glty",
        "colab_type": "code",
        "colab": {
          "base_uri": "https://localhost:8080/",
          "height": 173
        },
        "outputId": "91b7faf9-f4ee-480b-959e-771adecfa57b"
      },
      "source": [
        "from sklearn.cluster import KMeans\n",
        "from sklearn.metrics import pairwise_distances_argmin_min\n",
        "from tqdm import tqdm\n",
        "\n",
        "# Calculating summaries for first 5000 reviews. \n",
        "how_many_summaries = 2\n",
        "summary = [None] * how_many_summaries\n",
        "for rv in tqdm(range(how_many_summaries)):\n",
        "    review = df['sent_tokens'].iloc[rv]\n",
        "    enc_email = embedder.encode(review)\n",
        "    if(len(enc_email) > 0):\n",
        "        n_clusters = int(np.ceil(len(enc_email)**0.5))\n",
        "        kmeans = KMeans(n_clusters=n_clusters, random_state=0)\n",
        "        kmeans = kmeans.fit(enc_email)\n",
        "        avg = []\n",
        "        closest = []\n",
        "        for j in range(n_clusters):\n",
        "            idx = np.where(kmeans.labels_ == j)[0]\n",
        "            #print(\"IDX is: \", idx)\n",
        "            avg.append(np.mean(idx))\n",
        "        closest, _ = pairwise_distances_argmin_min(kmeans.cluster_centers_,\\\n",
        "                                                    enc_email)\n",
        "        ordering = sorted(range(n_clusters), key=lambda k: avg[k])\n",
        "        summary[rv] = ' '.join([review[closest[idx]] for idx in ordering])\n",
        "        print(\"Done for review # = \", rv)\n",
        "    else:\n",
        "        print(\"This is not a valid review\")"
      ],
      "execution_count": null,
      "outputs": [
        {
          "output_type": "stream",
          "text": [
            "\n",
            "\n",
            "  0%|          | 0/2 [00:00<?, ?it/s]\u001b[A\u001b[A\n",
            "\n",
            " 50%|█████     | 1/2 [00:22<00:22, 22.48s/it]\u001b[A\u001b[A"
          ],
          "name": "stderr"
        },
        {
          "output_type": "stream",
          "text": [
            "Done for review # =  0\n"
          ],
          "name": "stdout"
        },
        {
          "output_type": "stream",
          "text": [
            "\n",
            "\n",
            "100%|██████████| 2/2 [01:20<00:00, 40.25s/it]"
          ],
          "name": "stderr"
        },
        {
          "output_type": "stream",
          "text": [
            "Done for review # =  1\n"
          ],
          "name": "stdout"
        },
        {
          "output_type": "stream",
          "text": [
            "\n"
          ],
          "name": "stderr"
        }
      ]
    },
    {
      "cell_type": "code",
      "metadata": {
        "id": "Lx5ZAVhVhZ4V",
        "colab_type": "code",
        "colab": {
          "base_uri": "https://localhost:8080/",
          "height": 141
        },
        "outputId": "943ebbdb-09fe-403a-d3d4-7892494fbef4"
      },
      "source": [
        "df_2 = df.iloc[:2]\n",
        "df_2['PredictedSummary'] = summary\n",
        "df_2[['body_text', 'PredictedSummary']].to_csv('top_2_summary.csv')"
      ],
      "execution_count": null,
      "outputs": [
        {
          "output_type": "stream",
          "text": [
            "/usr/local/lib/python3.6/dist-packages/ipykernel_launcher.py:2: SettingWithCopyWarning: \n",
            "A value is trying to be set on a copy of a slice from a DataFrame.\n",
            "Try using .loc[row_indexer,col_indexer] = value instead\n",
            "\n",
            "See the caveats in the documentation: https://pandas.pydata.org/pandas-docs/stable/user_guide/indexing.html#returning-a-view-versus-a-copy\n",
            "  \n"
          ],
          "name": "stderr"
        }
      ]
    },
    {
      "cell_type": "code",
      "metadata": {
        "id": "W_WXFXaJlk_8",
        "colab_type": "code",
        "colab": {
          "base_uri": "https://localhost:8080/",
          "height": 242
        },
        "outputId": "89ee2622-2881-458f-d39c-f77c462505c5"
      },
      "source": [
        "string = df['abstract'][0]\n",
        "from pprint import pprint\n",
        "pprint(string)"
      ],
      "execution_count": null,
      "outputs": [
        {
          "output_type": "stream",
          "text": [
            "('Over the years, a vast array of information concerning the interactions of '\n",
            " 'viruses with their hosts has been collected. However, recent advances in '\n",
            " 'proteomics and other system biology techniques suggest these interactions '\n",
            " 'are far more complex than anticipated. One particularly interesting and '\n",
            " 'novel aspect is the analysis of cellular proteins incorporated into mature '\n",
            " 'virions. Though sometimes considered purification contaminants in the past, '\n",
            " 'their repeated detection by different laboratories suggests that a number of '\n",
            " 'these proteins are bona fide viral components, some of which likely '\n",
            " 'contribute to the viral life cycles. The present mini review focuses on '\n",
            " 'cellular proteins detected in herpesviruses. It highlights the common '\n",
            " 'cellular functions of these proteins, their potential implications for '\n",
            " 'host-pathogen interactions, discusses technical limitations, the need for '\n",
            " 'complementing methods and probes potential future research avenues.')\n"
          ],
          "name": "stdout"
        }
      ]
    },
    {
      "cell_type": "code",
      "metadata": {
        "id": "QnYmwZl3phvk",
        "colab_type": "code",
        "colab": {
          "base_uri": "https://localhost:8080/",
          "height": 175
        },
        "outputId": "a2e5dee1-690e-4823-fdfe-a283eadf3ff8"
      },
      "source": [
        "!pip install rouge-score"
      ],
      "execution_count": null,
      "outputs": [
        {
          "output_type": "stream",
          "text": [
            "Collecting rouge-score\n",
            "  Downloading https://files.pythonhosted.org/packages/d1/6d/2b9a64cba1e4e6ecd4effbf6834b2592b54dc813654f84029758e5daeeb5/rouge_score-0.0.3-py3-none-any.whl\n",
            "Requirement already satisfied: numpy in /usr/local/lib/python3.6/dist-packages (from rouge-score) (1.18.2)\n",
            "Requirement already satisfied: absl-py in /usr/local/lib/python3.6/dist-packages (from rouge-score) (0.9.0)\n",
            "Requirement already satisfied: six>=1.12.0 in /usr/local/lib/python3.6/dist-packages (from rouge-score) (1.12.0)\n",
            "Requirement already satisfied: nltk in /usr/local/lib/python3.6/dist-packages (from rouge-score) (3.2.5)\n",
            "Installing collected packages: rouge-score\n",
            "Successfully installed rouge-score-0.0.3\n"
          ],
          "name": "stdout"
        }
      ]
    },
    {
      "cell_type": "code",
      "metadata": {
        "id": "7h6_bf-Jqnd7",
        "colab_type": "code",
        "colab": {
          "base_uri": "https://localhost:8080/",
          "height": 72
        },
        "outputId": "db8b7e88-4c50-49dc-8daf-18793d77127d"
      },
      "source": [
        "from rouge_score import rouge_scorer\n",
        "\n",
        "scorer = rouge_scorer.RougeScorer(['rouge1', 'rougeL'], use_stemmer=True)\n",
        "scores = scorer.score(df['abstract'][0],summary[0])\n",
        "scores"
      ],
      "execution_count": null,
      "outputs": [
        {
          "output_type": "execute_result",
          "data": {
            "text/plain": [
              "{'rouge1': Score(precision=0.18820224719101122, recall=0.5114503816793893, fmeasure=0.27515400410677615),\n",
              " 'rougeL': Score(precision=0.08707865168539326, recall=0.2366412213740458, fmeasure=0.12731006160164274)}"
            ]
          },
          "metadata": {
            "tags": []
          },
          "execution_count": 52
        }
      ]
    },
    {
      "cell_type": "code",
      "metadata": {
        "id": "aMtZJX87yDW2",
        "colab_type": "code",
        "colab": {}
      },
      "source": [
        ""
      ],
      "execution_count": null,
      "outputs": []
    }
  ]
}